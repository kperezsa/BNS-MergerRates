{
 "cells": [
  {
   "cell_type": "code",
   "execution_count": 1,
   "metadata": {
    "collapsed": true
   },
   "outputs": [],
   "source": [
    "import numpy as np\n",
    "import matplotlib.pyplot as plt\n",
    "import math\n",
    "from math import pi"
   ]
  },
  {
   "cell_type": "code",
   "execution_count": 2,
   "metadata": {
    "collapsed": true
   },
   "outputs": [],
   "source": [
    "#Defining parameters of Schechter luminosity function\n",
    "\n",
    "b=0.4\n",
    "phi=0.93*10**(-2)*(1)**3\n",
    "m_char=-20.71+(5*(math.log(1)/math.log(10)))\n",
    "alpha=-1.26\n",
    "\n",
    "#Function to calculate galaxy space density as a function of magnitude\n",
    "\n",
    "def schechterFunc(mag):\n",
    "    lum_func=b*phi*math.log(10)*10**(-b*(mag-m_char)*(1+alpha))*math.exp(-10**(-b*(mag-m_char)))\n",
    "    return lum_func #galaxies per Mpc^(3)"
   ]
  },
  {
   "cell_type": "code",
   "execution_count": 11,
   "metadata": {},
   "outputs": [
    {
     "data": {
      "text/plain": [
       "0.000603625025388807"
      ]
     },
     "execution_count": 11,
     "metadata": {},
     "output_type": "execute_result"
    }
   ],
   "source": [
    "#Rate calculation based on spatial density of galaxies\n",
    "\n",
    "density=schechterFunc(-20)*10**9; #galaxies/Gpc^3\n",
    "r=1/(10**10) #events/(galaxy*yr)\n",
    "rate=density*r #events/(gpc^3*yr)\n",
    "rate"
   ]
  },
  {
   "cell_type": "code",
   "execution_count": 13,
   "metadata": {},
   "outputs": [
    {
     "data": {
      "text/plain": [
       "0.1346735001154245"
      ]
     },
     "execution_count": 13,
     "metadata": {},
     "output_type": "execute_result"
    }
   ],
   "source": [
    "#Rate calculation based on median distance of analogs\n",
    "\n",
    "radius=0.56175*10**(-3) #[Gpc] Median distance of distance-analogs at scFactor=0.3526 ~10 Gyr\n",
    "volume=(4/3)*pi*(radius)**3 #[Gpc]^3 Calculating physical volume\n",
    "time=10**10 #years\n",
    "rate2=1/(time*volume)\n",
    "rate2"
   ]
  },
  {
   "cell_type": "code",
   "execution_count": null,
   "metadata": {
    "collapsed": true
   },
   "outputs": [],
   "source": []
  }
 ],
 "metadata": {
  "kernelspec": {
   "display_name": "Python 3",
   "language": "python",
   "name": "python3"
  },
  "language_info": {
   "codemirror_mode": {
    "name": "ipython",
    "version": 3
   },
   "file_extension": ".py",
   "mimetype": "text/x-python",
   "name": "python",
   "nbconvert_exporter": "python",
   "pygments_lexer": "ipython3",
   "version": "3.5.3"
  }
 },
 "nbformat": 4,
 "nbformat_minor": 2
}
