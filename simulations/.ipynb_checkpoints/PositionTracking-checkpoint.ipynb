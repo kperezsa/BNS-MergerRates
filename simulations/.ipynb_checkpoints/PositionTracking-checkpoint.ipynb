{
 "cells": [
  {
   "cell_type": "code",
   "execution_count": 84,
   "metadata": {
    "collapsed": true
   },
   "outputs": [],
   "source": [
    "### These functions track distance of distance-analog halos to central halo present day position. ###\n",
    "\n",
    "import numpy as np\n",
    "import matplotlib.pyplot as plt\n",
    "from mpl_toolkits.mplot3d import Axes3D\n",
    "import sys\n",
    "sys.path.append(\"../research2017/ELVIS_HALO_Catalogs/IsolatedCatalogs\")\n",
    "sys.path.append(\"../research2017/ELVIS_Main_Branches/IsolatedTrees\")\n",
    "import analogsFunction as log\n",
    "\n",
    "def indexDistLogs(system):\n",
    "    #Determine rows where distance-analogs occur\n",
    "    logs=log.distAnalogsList('../ELVIS_HALO_Catalogs/IsolatedCatalogs/'+system+'.txt') #get list of analogs\n",
    "    dataID=np.genfromtxt('../ELVIS_Main_Branches/IsolatedTrees/'+system+'/ID.txt');#get id data of evolutionary track\n",
    "    sele=np.in1d(dataID[:,0],logs[:,0]) #intersection of analogs and whole data\n",
    "    index=np.where(sele) #create list of rows where analogs occur\n",
    "    return index\n",
    "\n",
    "def distTrack(dataX,dataY,dataZ,dataScale,n,system):\n",
    "    #This function creates an array of the position vs. time of a specific distance-analog (n) in a given system.\n",
    "    #Notice you have to load position data first\n",
    "    dist0X=dataX[0]#array of the central halo X position at different scale factor\n",
    "    dist0Y=dataY[0]#array of the central halo X position at different scale factor\n",
    "    dist0Z=dataZ[0]#array of the central halo X position at different scale factor\n",
    "    xDistArray=np.multiply((dist0X-dataX[n]),(dist0X-dataX[n])); #x^2=(x1-x2)^2\n",
    "    yDistArray=np.multiply((dist0Y-dataY[n]),(dist0Y-dataY[n])); #y^2=(y1-y2)^2\n",
    "    zDistArray=np.multiply((dist0Z-dataZ[n]),(dist0Z-dataZ[n])); #z^2=(z1-z2)^2\n",
    "    distArray=np.sqrt(xDistArray+yDistArray+zDistArray) #Distance formula dist=sqrt(x^2+y^2+z^2)\n",
    "    a=np.vstack((dataScale[n],distArray))\n",
    "    return a\n",
    "\n",
    "def plotTrack(system):\n",
    "    #Creates plot of position vs. time for all distance-analogs in a system.\n",
    "    indexList=indexDistLogs(system); #get rows where distance-analogs occur\n",
    "    dataX=np.genfromtxt(\"../ELVIS_Main_Branches/IsolatedTrees/\"+system+\"/X.txt\");#get data of X position\n",
    "    dataY=np.genfromtxt(\"../ELVIS_Main_Branches/IsolatedTrees/\"+system+\"/Y.txt\");#get data of Y position\n",
    "    dataZ=np.genfromtxt(\"../ELVIS_Main_Branches/IsolatedTrees/\"+system+\"/Z.txt\");#get data of Z position\n",
    "    dataScale=np.genfromtxt(\"../ELVIS_Main_Branches/IsolatedTrees/\"+system+\"/scale.txt\"); #get data of scale factor\n",
    "    fig1=plt.figure();\n",
    "    axes=plt.gca()\n",
    "    for i in indexList[0][:]:\n",
    "        array=distTrack(dataX,dataY,dataZ,dataScale,i,system)\n",
    "        axes.plot(array[0],array[1],'.')\n",
    "    axes.set_title(\"Distance tracking for\"+\" \"+system+\" \"+\"distance-analogs\");\n",
    "    axes.set_xlabel(\"Scale Factor\");\n",
    "    axes.set_ylabel(\"Distance (Mpc)\");   \n",
    "    axes.set_ylim([0,8]); \n",
    "    plt.show()\n",
    "    \n",
    "def main():\n",
    "    indexDistLogs()\n",
    "    distTrack()\n",
    "    plotTrack()\n",
    "    pass\n",
    "\n",
    "if __name__ == '__main__':\n",
    "    main()"
   ]
  }
 ],
 "metadata": {
  "kernelspec": {
   "display_name": "Python 3",
   "language": "python",
   "name": "python3"
  },
  "language_info": {
   "codemirror_mode": {
    "name": "ipython",
    "version": 3
   },
   "file_extension": ".py",
   "mimetype": "text/x-python",
   "name": "python",
   "nbconvert_exporter": "python",
   "pygments_lexer": "ipython3",
   "version": "3.5.3"
  }
 },
 "nbformat": 4,
 "nbformat_minor": 2
}
