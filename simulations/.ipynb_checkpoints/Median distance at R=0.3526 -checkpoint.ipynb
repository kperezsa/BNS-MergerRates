{
 "cells": [
  {
   "cell_type": "code",
   "execution_count": 1,
   "metadata": {
    "collapsed": true
   },
   "outputs": [],
   "source": [
    "#Calculate median distance at R=0.3526 ~10 Gyr (lookback time) as calculated using astropy.cosmology"
   ]
  },
  {
   "cell_type": "code",
   "execution_count": 2,
   "metadata": {
    "collapsed": true
   },
   "outputs": [],
   "source": [
    "import astropy\n",
    "from astropy.cosmology import FlatLambdaCDM\n",
    "import astropy.units as u\n",
    "from astropy.cosmology import z_at_value\n",
    "import astropy.cosmology"
   ]
  },
  {
   "cell_type": "code",
   "execution_count": 3,
   "metadata": {},
   "outputs": [
    {
     "data": {
      "text/plain": [
       "0.35010326804842157"
      ]
     },
     "execution_count": 3,
     "metadata": {},
     "output_type": "execute_result"
    }
   ],
   "source": [
    "cosmo = FlatLambdaCDM(H0=70, Om0=0.3);\n",
    "redshift=astropy.cosmology.z_at_value(cosmo.lookback_time,10*u.Gyr);\n",
    "scaleFactor=1/(1+redshift)\n",
    "scaleFactor"
   ]
  },
  {
   "cell_type": "code",
   "execution_count": 4,
   "metadata": {
    "collapsed": true
   },
   "outputs": [],
   "source": [
    "import numpy as np\n",
    "import matplotlib.pyplot as plt\n",
    "from mpl_toolkits.mplot3d import Axes3D\n",
    "import sys\n",
    "sys.path.append(\"../research2017/ELVIS_HALO_Catalogs/IsolatedCatalogs\")\n",
    "sys.path.append(\"../research2017/ELVIS_Main_Branches/IsolatedTrees\")\n",
    "import analogsFunction as log\n",
    "import PositionTracking as track"
   ]
  },
  {
   "cell_type": "code",
   "execution_count": 5,
   "metadata": {},
   "outputs": [
    {
     "data": {
      "text/plain": [
       "0.56175441707208773"
      ]
     },
     "execution_count": 5,
     "metadata": {},
     "output_type": "execute_result"
    }
   ],
   "source": [
    "def runDistArray(system):\n",
    "    indexList=track.indexDistLogs(system); #get rows where distance-analogs occur\n",
    "    dataX=np.genfromtxt(\"../ELVIS_Main_Branches/IsolatedTrees/\"+system+\"/X.txt\");#get data of X position\n",
    "    dataY=np.genfromtxt(\"../ELVIS_Main_Branches/IsolatedTrees/\"+system+\"/Y.txt\");#get data of Y position\n",
    "    dataZ=np.genfromtxt(\"../ELVIS_Main_Branches/IsolatedTrees/\"+system+\"/Z.txt\");#get data of Z position\n",
    "    dataScale=np.genfromtxt(\"../ELVIS_Main_Branches/IsolatedTrees/\"+system+\"/scale.txt\"); #get data of scale factor\n",
    "    pre=np.empty([1,2])\n",
    "    for i in indexList[0][:]: #create array of distances for each analog in indexList\n",
    "        arrayN=track.distTrack(dataX,dataY,dataZ,dataScale,i,system);\n",
    "        select=(arrayN[0]==0.3526) #select distance at about 10 Gyr lookback time ~0.3526 scale factor\n",
    "        if np.any(select)==True: #exclude analogs that disappear\n",
    "            k=np.where(select);\n",
    "            ko=k[0][0];\n",
    "            pre=np.vstack((pre,arrayN[:,ko])) #stack all distances of analogs 10 Gyr ago\n",
    "    final=np.delete(pre,0,0) \n",
    "    return final\n",
    "systems=(\"iCharybdis\",\"iCher\",\"iDouglas\",\"iHall\",\"iHamilton\",\"iHera\",\"iKauket\",\"iKek\",\"iLincoln\",\"iLouise\",\"iOates\",\"iOrion\",\"iRemus\",\"iRomulus\",\"iRoy\",\"iScylla\",\"iSerana\",\"iSiegfried\",\"iSonny\",\"iTaurus\",\"iThelma\",\"iVenus\",\"iZeus\");\n",
    "distArray_10gyr=runDistArray('iBurr')\n",
    "for i in systems:\n",
    "    distArray_10gyr=np.append(distArray_10gyr,runDistArray(i),axis=0);\n",
    "median_dist=np.median(distArray_10gyr[:,1])\n",
    "median_dist"
   ]
  },
  {
   "cell_type": "code",
   "execution_count": null,
   "metadata": {
    "collapsed": true
   },
   "outputs": [],
   "source": []
  }
 ],
 "metadata": {
  "kernelspec": {
   "display_name": "Python 3",
   "language": "python",
   "name": "python3"
  },
  "language_info": {
   "codemirror_mode": {
    "name": "ipython",
    "version": 3
   },
   "file_extension": ".py",
   "mimetype": "text/x-python",
   "name": "python",
   "nbconvert_exporter": "python",
   "pygments_lexer": "ipython3",
   "version": "3.5.3"
  }
 },
 "nbformat": 4,
 "nbformat_minor": 2
}
