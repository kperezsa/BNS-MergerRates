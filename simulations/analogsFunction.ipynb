{
 "cells": [
  {
   "cell_type": "code",
   "execution_count": null,
   "metadata": {
    "collapsed": true
   },
   "outputs": [],
   "source": [
    "import numpy as np\n",
    "import matplotlib.pyplot as plt\n",
    "from mpl_toolkits.mplot3d import Axes3D\n",
    "\n",
    "def distAnalogsList(filename):\n",
    "    #Create list of analogs of a single system; DOES NOT PLOT\n",
    "    data=np.genfromtxt(filename,usecols=(0,1,2,3,9,10),names=True);\n",
    "    #Calculate distance between halos. Notice: central halo not included in array.\n",
    "    dist0=np.ones(data.shape[0]-1)*data['XMpc'][0] #creates array of the central halo position\n",
    "    xDistArray=np.multiply((dist0-data['XMpc'][1:]),(dist0-data['XMpc'][1:])); #x^2=(x1-x2)^2\n",
    "    yDistArray=np.multiply((dist0-data['YMpc'][1:]),(dist0-data['YMpc'][1:])); #y^2=(y1-y2)^2\n",
    "    zDistArray=np.multiply((dist0-data['ZMpc'][1:]),(dist0-data['ZMpc'][1:])); #z^2=(z1-z2)^2\n",
    "    distArray=np.sqrt(xDistArray+yDistArray+zDistArray) #Distance formula dist=sqrt(x^2+y^2+z^2)\n",
    "    dataPlot=np.vstack((data['ID'][1:],distArray,data['XMpc'][1:],data['YMpc'][1:],data['ZMpc'][1:],data['MvirMsun'][1:],data['MpeakMsun'][1:])) #Create matriz with ID, distance to central halo and X,Y,Z position. \n",
    "    #Insert central halo\n",
    "    dataT=np.insert(dataPlot,[0],[[data['ID'][0]],[0],[data['XMpc'][0]],[data['YMpc'][0]],[data['ZMpc'][0]],[data['MvirMsun'][0]],[data['MpeakMsun'][0]]],axis=1)\n",
    "    dataFinal=dataT.T #Transpose matrix\n",
    "    #Select halos with distance near 32 kpc. (0.032 Mpc = 32kpc)\n",
    "    selectionDist=np.logical_and((dataFinal[:,1]<0.05),(dataFinal[:,1]>0));\n",
    "    return dataFinal[selectionDist]\n",
    "\n",
    "def main():\n",
    "    distAnalogsList()\n",
    "    pass\n",
    "\n",
    "if __name__ == '__main__':\n",
    "    main()"
   ]
  }
 ],
 "metadata": {
  "kernelspec": {
   "display_name": "Python 3",
   "language": "python",
   "name": "python3"
  },
  "language_info": {
   "codemirror_mode": {
    "name": "ipython",
    "version": 3
   },
   "file_extension": ".py",
   "mimetype": "text/x-python",
   "name": "python",
   "nbconvert_exporter": "python",
   "pygments_lexer": "ipython3",
   "version": "3.5.3"
  }
 },
 "nbformat": 4,
 "nbformat_minor": 2
}
