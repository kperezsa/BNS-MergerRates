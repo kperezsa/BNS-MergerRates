{
 "cells": [
  {
   "cell_type": "code",
   "execution_count": 1,
   "metadata": {
    "collapsed": true
   },
   "outputs": [],
   "source": [
    "import numpy as np\n",
    "import matplotlib.pyplot as plt\n",
    "from mpl_toolkits.mplot3d import Axes3D\n",
    "import sys\n",
    "sys.path.append(\"../research2017/ELVIS_HALO_Catalogs/IsolatedCatalogs\")\n",
    "import mainfunction as mn\n",
    "import analogsFunction as log #function to create list of analogs of system"
   ]
  },
  {
   "cell_type": "code",
   "execution_count": 2,
   "metadata": {
    "collapsed": true
   },
   "outputs": [],
   "source": [
    "#Create complete list of analogs across all isolated systems.\n",
    "files=(\"iCharybdis.txt\",\"iCher.txt\",\"iDouglas.txt\",\"iHall.txt\",\"iHamilton.txt\",\"iHera.txt\",\"iKauket.txt\",\"iKek.txt\",\"iLincoln.txt\",\"iLouise.txt\",\"iOates.txt\",\"iOrion.txt\",\"iRemus.txt\",\"iRomulus.txt\",\"iRoy.txt\",\"iScylla.txt\",\"iSerana.txt\",\"iSiegfried.txt\",\"iSonny.txt\",\"iTaurus.txt\",\"iThelma.txt\",\"iVenus.txt\",\"iZeus.txt\");\n",
    "analogsArray=log.distAnalogsList(\"../ELVIS_HALO_Catalogs/IsolatedCatalogs/iBurr.txt\")\n",
    "for i in files:\n",
    "    fullName='../ELVIS_HALO_Catalogs/IsolatedCatalogs/'+i\n",
    "    analogsArray=np.append(analogsArray,log.distAnalogsList(fullName),axis=0);"
   ]
  },
  {
   "cell_type": "code",
   "execution_count": 3,
   "metadata": {
    "scrolled": true
   },
   "outputs": [
    {
     "data": {
      "image/png": "[encoded data removed]",
      "text/plain": [
       "<matplotlib.figure.Figure at 0x104cb9d30>"
      ]
     },
     "metadata": {},
     "output_type": "display_data"
    }
   ],
   "source": [
    "#Plot mass distribution of complete analog list\n",
    "plt.hist(analogsArray[:,5],bins=100,range=(0,1e8))\n",
    "plt.show()"
   ]
  },
  {
   "cell_type": "code",
   "execution_count": 4,
   "metadata": {},
   "outputs": [
    {
     "data": {
      "text/plain": [
       "(715, 7)"
      ]
     },
     "execution_count": 4,
     "metadata": {},
     "output_type": "execute_result"
    }
   ],
   "source": [
    "analogsArray.shape"
   ]
  },
  {
   "cell_type": "code",
   "execution_count": null,
   "metadata": {
    "collapsed": true
   },
   "outputs": [],
   "source": []
  }
 ],
 "metadata": {
  "kernelspec": {
   "display_name": "Python 3",
   "language": "python",
   "name": "python3"
  },
  "language_info": {
   "codemirror_mode": {
    "name": "ipython",
    "version": 3
   },
   "file_extension": ".py",
   "mimetype": "text/x-python",
   "name": "python",
   "nbconvert_exporter": "python",
   "pygments_lexer": "ipython3",
   "version": "3.5.3"
  }
 },
 "nbformat": 4,
 "nbformat_minor": 2
}
