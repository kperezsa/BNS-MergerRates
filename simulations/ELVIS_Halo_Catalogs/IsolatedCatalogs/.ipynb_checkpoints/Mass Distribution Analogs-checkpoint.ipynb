{
 "cells": [
  {
   "cell_type": "code",
   "execution_count": 1,
   "metadata": {
    "collapsed": true
   },
   "outputs": [],
   "source": [
    "import numpy as np\n",
    "import matplotlib.pyplot as plt\n",
    "from mpl_toolkits.mplot3d import Axes3D"
   ]
  },
  {
   "cell_type": "code",
   "execution_count": 2,
   "metadata": {
    "collapsed": true
   },
   "outputs": [],
   "source": [
    "def distAnalogsList(filename):\n",
    "    #Create list of analogs of a single system; DOES NOT PLOT\n",
    "    import numpy as np\n",
    "    import matplotlib.pyplot as plt\n",
    "    from mpl_toolkits.mplot3d import Axes3D\n",
    "    data=np.genfromtxt(filename,usecols=(0,1,2,3,9,10),names=True);\n",
    "    #Calculate distance between halos. Notice: central halo not included in array.\n",
    "    dist0=np.ones(data.shape[0]-1)*data['XMpc'][0] #creates array of the central halo position\n",
    "    xDistArray=np.multiply((dist0-data['XMpc'][1:]),(dist0-data['XMpc'][1:])); #x^2=(x1-x2)^2\n",
    "    yDistArray=np.multiply((dist0-data['YMpc'][1:]),(dist0-data['YMpc'][1:])); #y^2=(y1-y2)^2\n",
    "    zDistArray=np.multiply((dist0-data['ZMpc'][1:]),(dist0-data['ZMpc'][1:])); #z^2=(z1-z2)^2\n",
    "    distArray=np.sqrt(xDistArray+yDistArray+zDistArray) #Distance formula dist=sqrt(x^2+y^2+z^2)\n",
    "    dataPlot=np.vstack((data['ID'][1:],distArray,data['XMpc'][1:],data['YMpc'][1:],data['ZMpc'][1:],data['MvirMsun'][1:],data['MpeakMsun'][1:])) #Create matriz with ID, distance to central halo and X,Y,Z position. \n",
    "    #Insert central halo\n",
    "    dataT=np.insert(dataPlot,[0],[[data['ID'][0]],[0],[data['XMpc'][0]],[data['YMpc'][0]],[data['ZMpc'][0]],[data['MvirMsun'][0]],[data['MpeakMsun'][0]]],axis=1)\n",
    "    dataFinal=dataT.T #Transpose matrix\n",
    "    #Select halos with distance near 32 kpc. (0.032 Mpc = 32kpc)\n",
    "    selectionDist=np.logical_and((dataFinal[:,1]<0.05),(dataFinal[:,1]>0.02));\n",
    "    return dataFinal[selectionDist]"
   ]
  },
  {
   "cell_type": "code",
   "execution_count": 3,
   "metadata": {},
   "outputs": [],
   "source": [
    "#Create complete list of analogs across all isolated systems.\n",
    "files=(\"iCharybdis.txt\",\"iCher.txt\",\"iDouglas.txt\",\"iHall.txt\",\"iHamilton.txt\",\"iHera.txt\",\"iKauket.txt\",\"iKek.txt\",\"iLincoln.txt\",\"iLouise.txt\",\"iOates.txt\",\"iOrion.txt\",\"iRemus.txt\",\"iRomulus.txt\",\"iRoy.txt\",\"iScylla.txt\",\"iSerana.txt\",\"iSiegfried.txt\",\"iSonny.txt\",\"iTaurus.txt\",\"iThelma.txt\",\"iVenus.txt\",\"iZeus.txt\");\n",
    "analogsArray=distAnalogsList(\"iBurr.txt\")\n",
    "for i in files:\n",
    "    analogsArray=np.append(analogsArray,distAnalogsList(i),axis=0);"
   ]
  },
  {
   "cell_type": "code",
   "execution_count": 4,
   "metadata": {},
   "outputs": [
    {
     "data": {
      "image/png": "[encoded data removed]",
      "text/plain": [
       "<matplotlib.figure.Figure at 0x104d912b0>"
      ]
     },
     "metadata": {},
     "output_type": "display_data"
    }
   ],
   "source": [
    "#Plot mass distribution of complete list of analogs\n",
    "plt.hist(analogsArray[:,5],bins=100,range=(0,1e8))\n",
    "plt.show()"
   ]
  }
 ],
 "metadata": {
  "kernelspec": {
   "display_name": "Python 3",
   "language": "python",
   "name": "python3"
  },
  "language_info": {
   "codemirror_mode": {
    "name": "ipython",
    "version": 3
   },
   "file_extension": ".py",
   "mimetype": "text/x-python",
   "name": "python",
   "nbconvert_exporter": "python",
   "pygments_lexer": "ipython3",
   "version": "3.5.3"
  }
 },
 "nbformat": 4,
 "nbformat_minor": 2
}
