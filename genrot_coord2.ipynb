{
 "cells": [
  {
   "cell_type": "code",
   "execution_count": 9,
   "metadata": {
    "collapsed": true
   },
   "outputs": [],
   "source": [
    "from numpy import *\n",
    "from astropy.time import Time\n",
    "import ephem"
   ]
  },
  {
   "cell_type": "code",
   "execution_count": 10,
   "metadata": {
    "collapsed": true
   },
   "outputs": [],
   "source": [
    "def rot_overtime(event_time):\n",
    "    az = float(ephem.degrees('0'))\n",
    "    alt = float(ephem.degrees('90'))\n",
    "    obs = ephem.Observer()\n",
    "    obs.pressure = 0\n",
    "    obs.lat, obs.lon = '0', '0'\n",
    "    obs.date = event_time\n",
    "\n",
    "    ra_rot, dec_rot = obs.radec_of(az,alt)\n",
    "    \n",
    "    return ra_rot"
   ]
  },
  {
   "cell_type": "code",
   "execution_count": 11,
   "metadata": {},
   "outputs": [
    {
     "name": "stderr",
     "output_type": "stream",
     "text": [
      "WARNING: ErfaWarning: ERFA function \"dtf2d\" yielded 1 of \"dubious year (Note 6)\" [astropy._erfa.core]\n"
     ]
    }
   ],
   "source": [
    "time = ['1899-12-31 12:00:00']\n",
    "t_ephem_start = Time(time, format='iso', scale='utc')"
   ]
  },
  {
   "cell_type": "code",
   "execution_count": 12,
   "metadata": {
    "collapsed": true
   },
   "outputs": [],
   "source": [
    "#Month May 1 - May 31 2017\n",
    "start_time='2017/05/01 00:00:00'\n",
    "end_time='2017/05/31 23:45:00'\n",
    "time_interval=0.25 #time interval in hour."
   ]
  },
  {
   "cell_type": "code",
   "execution_count": 13,
   "metadata": {
    "collapsed": true
   },
   "outputs": [],
   "source": [
    "#create array, from the start time, to the end time, in intervals of 15 min per hour - size (2976)\n",
    "event_time=arange(ephem.Date(start_time),ephem.Date(end_time)+1e-10,ephem.hour*time_interval)"
   ]
  },
  {
   "cell_type": "code",
   "execution_count": 14,
   "metadata": {
    "collapsed": true
   },
   "outputs": [],
   "source": [
    "ra_rot=zeros(size(event_time)) #create empty array with same size as event_time array\n",
    "for i in range(0,size(event_time)): #for each element in event_time array\n",
    "    ra_rot[i]=rot_overtime(event_time[i]) #update element i of ra_rot to be rotation at given time"
   ]
  },
  {
   "cell_type": "code",
   "execution_count": 15,
   "metadata": {
    "collapsed": true
   },
   "outputs": [],
   "source": [
    "table=column_stack((event_time+t_ephem_start.mjd,ra_rot)) #create table, columns are event_time array+start date,rotation array\n",
    "savetxt('../BNS-MergerRates/2017may_rot_fine.txt',table) #save table to BNS-MergerRates folder"
   ]
  },
  {
   "cell_type": "code",
   "execution_count": null,
   "metadata": {
    "collapsed": true
   },
   "outputs": [],
   "source": []
  }
 ],
 "metadata": {
  "kernelspec": {
   "display_name": "Python 3",
   "language": "python",
   "name": "python3"
  },
  "language_info": {
   "codemirror_mode": {
    "name": "ipython",
    "version": 3
   },
   "file_extension": ".py",
   "mimetype": "text/x-python",
   "name": "python",
   "nbconvert_exporter": "python",
   "pygments_lexer": "ipython3",
   "version": "3.5.3"
  }
 },
 "nbformat": 4,
 "nbformat_minor": 2
}
