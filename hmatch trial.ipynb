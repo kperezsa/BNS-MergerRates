{
 "cells": [
  {
   "cell_type": "code",
   "execution_count": 20,
   "metadata": {},
   "outputs": [],
   "source": [
    "import esutil as eu\n",
    "import numpy as np"
   ]
  },
  {
   "cell_type": "code",
   "execution_count": 22,
   "metadata": {
    "collapsed": true
   },
   "outputs": [],
   "source": [
    "h=eu.htm.HTM(10)"
   ]
  },
  {
   "cell_type": "code",
   "execution_count": 9,
   "metadata": {
    "collapsed": true
   },
   "outputs": [],
   "source": [
    "two = 2.0/3600. # match within 2 arcsec"
   ]
  },
  {
   "cell_type": "code",
   "execution_count": 10,
   "metadata": {},
   "outputs": [],
   "source": [
    "ra1 = [200.0, 200.0, 200.0, 175.23, 21.36]\n",
    "dec1 = [24.3,  24.3,  24.3,  -28.25, -15.32]\n",
    "ra2 = [200.0, 200.0, 200.0, 175.23, 55.25]\n",
    "dec2 = [24.3+0.75*two, 24.3 + 0.25*two, 24.3 - 0.33*two, -28.25 + 0.58*two, 75.22]"
   ]
  },
  {
   "cell_type": "code",
   "execution_count": 13,
   "metadata": {},
   "outputs": [],
   "source": [
    "m1,m2,d12=h.match(ra1,dec1,ra2,dec2,two,maxmatch=0)"
   ]
  },
  {
   "cell_type": "code",
   "execution_count": 16,
   "metadata": {},
   "outputs": [
    {
     "name": "stdout",
     "output_type": "stream",
     "text": [
      "0 1 0.00013888984367\n",
      "0 2 0.00018333285694\n",
      "0 0 0.000416666032158\n",
      "1 1 0.00013888984367\n",
      "1 2 0.00018333285694\n",
      "1 0 0.000416666032158\n",
      "2 1 0.00013888984367\n",
      "2 2 0.00018333285694\n",
      "2 0 0.000416666032158\n",
      "3 3 0.000322221232243\n"
     ]
    }
   ],
   "source": [
    "for i in range(m1.size):\n",
    "    print(m1[i],m2[i],d12[i])"
   ]
  },
  {
   "cell_type": "code",
   "execution_count": 21,
   "metadata": {},
   "outputs": [
    {
     "data": {
      "text/plain": [
       "array([11, 11, 11, 22, 22, 22, 33, 33, 33, 44])"
      ]
     },
     "execution_count": 21,
     "metadata": {},
     "output_type": "execute_result"
    }
   ],
   "source": [
    "x=np.array([11,22,33,44,55])\n",
    "x[m1]"
   ]
  },
  {
   "cell_type": "code",
   "execution_count": null,
   "metadata": {
    "collapsed": true
   },
   "outputs": [],
   "source": []
  }
 ],
 "metadata": {
  "kernelspec": {
   "display_name": "Python 3",
   "language": "python",
   "name": "python3"
  },
  "language_info": {
   "codemirror_mode": {
    "name": "ipython",
    "version": 3
   },
   "file_extension": ".py",
   "mimetype": "text/x-python",
   "name": "python",
   "nbconvert_exporter": "python",
   "pygments_lexer": "ipython3",
   "version": "3.5.3"
  }
 },
 "nbformat": 4,
 "nbformat_minor": 2
}
