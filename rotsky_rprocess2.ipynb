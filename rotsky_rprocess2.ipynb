{
 "cells": [
  {
   "cell_type": "code",
   "execution_count": 1,
   "metadata": {
    "collapsed": true
   },
   "outputs": [],
   "source": [
    "from numpy import *\n",
    "import numpy as np\n",
    "import healpy as hp\n",
    "import time\n",
    "import astropy\n",
    "from astropy.time import Time\n",
    "from astropy.coordinates import SkyCoord"
   ]
  },
  {
   "cell_type": "code",
   "execution_count": 2,
   "metadata": {
    "collapsed": true
   },
   "outputs": [],
   "source": [
    "dir='~/'"
   ]
  },
  {
   "cell_type": "code",
   "execution_count": 3,
   "metadata": {
    "collapsed": true
   },
   "outputs": [],
   "source": [
    "def rot_map(basemap,ra_rot):\n",
    "    \"\"\"Function takes in two arguments, an initial map and a rotation matrix\"\"\"\n",
    "    nside=hp.get_nside(basemap) #get pixel size from basemap\n",
    "    rotmap=zeros(hp.nside2npix(nside)) #creates empty map of nside pixels\n",
    "    theta,phi=hp.pix2ang(nside,np.arange(hp.nside2npix(nside))) #transform pixel to angle. takes nside and the pixel indices of a given nside \n",
    "    phi=phi+ra_rot #rotates current value of right ascension (phi) by ra_rot\n",
    "    rotmap[hp.ang2pix(nside,theta,phi)]=basemap #creates new rotated map with rotated values for right ascension \n",
    "    return rotmap"
   ]
  },
  {
   "cell_type": "code",
   "execution_count": 4,
   "metadata": {
    "collapsed": true
   },
   "outputs": [],
   "source": [
    "def vampire(time,nside,dead_zone):\n",
    "    \"\"\"This function blocks the sun in plot\"\"\"\n",
    "    t = Time(time, format='mjd', scale='utc')\n",
    "    sun=astropy.coordinates.get_sun(t) #get coordinates of sun at specific time\n",
    "    theta_sun=pi/2.-sun.dec.radian #get declination in radians\n",
    "    phi_sun=sun.ra.radian #get right ascension in radians\n",
    "    v_sun=array([sin(theta_sun)*cos(phi_sun),sin(theta_sun)*sin(phi_sun),cos(theta_sun)])\n",
    "    theta,phi=hp.pix2ang(nside,arange(hp.nside2npix(nside)))\n",
    "    v_pix=array([sin(theta)*cos(phi),sin(theta)*sin(phi),cos(theta)])\n",
    "    shield=dot(v_sun,v_pix)<=cos(dead_zone/180.*pi)\n",
    "    return shield"
   ]
  },
  {
   "cell_type": "code",
   "execution_count": null,
   "metadata": {
    "collapsed": true
   },
   "outputs": [],
   "source": [
    "def bias_factor(hr,amplitude):\n",
    "    \"\"\"This function introduces daily cycle nonuniformitivity\"\"\"\n",
    "    return  (1. + amplitude*sin(2.*pi*hr/24. - pi/8.))/24."
   ]
  },
  {
   "cell_type": "code",
   "execution_count": null,
   "metadata": {
    "collapsed": true
   },
   "outputs": [],
   "source": [
    "basemap_cbc=hp.fitsfunc.read_map('obsbias/data/skyprior_cbc_hl.fits')\n",
    "basemap_cbc=basemap_cbc/sum(basemap_cbc)"
   ]
  }
 ],
 "metadata": {
  "kernelspec": {
   "display_name": "Python 3",
   "language": "python",
   "name": "python3"
  },
  "language_info": {
   "codemirror_mode": {
    "name": "ipython",
    "version": 3
   },
   "file_extension": ".py",
   "mimetype": "text/x-python",
   "name": "python",
   "nbconvert_exporter": "python",
   "pygments_lexer": "ipython3",
   "version": "3.5.3"
  }
 },
 "nbformat": 4,
 "nbformat_minor": 2
}
