{
 "cells": [
  {
   "cell_type": "code",
   "execution_count": 1,
   "metadata": {
    "collapsed": true
   },
   "outputs": [],
   "source": [
    "from numpy import *\n",
    "import numpy as np\n",
    "import healpy as hp\n",
    "import time\n",
    "import astropy\n",
    "from astropy.time import Time\n",
    "from astropy.coordinates import SkyCoord"
   ]
  },
  {
   "cell_type": "code",
   "execution_count": null,
   "metadata": {
    "collapsed": true
   },
   "outputs": [],
   "source": [
    "dir='~/'"
   ]
  },
  {
   "cell_type": "code",
   "execution_count": 2,
   "metadata": {
    "collapsed": true
   },
   "outputs": [],
   "source": [
    "def rot_map(basemap,ra_rot):\n",
    "    \"\"\"Function takes in two arguments, an initial map and a rotation matrix\"\"\"\n",
    "    nside=hp.get_nside(basemap) #get pixel size from basemap\n",
    "    rotmap=zeros(hp.nside2npix(nside)) #creates empty map of nside pixels\n",
    "    theta,phi=hp.pix2ang(nside,np.arange(hp.nside2npix(nside))) #transform pixel to angle. takes nside and the pixel indices of a given nside \n",
    "    phi=phi+ra_rot #rotates current value of right ascension (phi) by ra_rot\n",
    "    rotmap[hp.ang2pix(nside,theta,phi)]=basemap #creates new rotated map with rotated values for right ascension \n",
    "    return rotmap"
   ]
  },
  {
   "cell_type": "code",
   "execution_count": 3,
   "metadata": {
    "collapsed": true
   },
   "outputs": [],
   "source": [
    "def vampire(time,nside,dead_zone):\n",
    "    \"\"\"This function blocks the sun in plot\"\"\"\n",
    "    t = Time(time, format='mjd', scale='utc')\n",
    "    sun=astropy.coordinates.get_sun(t) #get coordinates of sun at specific time\n",
    "    theta_sun=pi/2.-sun.dec.radian #get declination in radians\n",
    "    phi_sun=sun.ra.radian #get right ascension in radians\n",
    "    v_sun=array([sin(theta_sun)*cos(phi_sun),sin(theta_sun)*sin(phi_sun),cos(theta_sun)])\n",
    "    theta,phi=hp.pix2ang(nside,arange(hp.nside2npix(nside)))\n",
    "    v_pix=array([sin(theta)*cos(phi),sin(theta)*sin(phi),cos(theta)])\n",
    "    shield=dot(v_sun,v_pix)<=cos(dead_zone/180.*pi)\n",
    "    return shield"
   ]
  },
  {
   "cell_type": "code",
   "execution_count": 4,
   "metadata": {
    "collapsed": true
   },
   "outputs": [],
   "source": [
    "def bias_factor(hr,amplitude):\n",
    "    \"\"\"This function introduces daily cycle nonuniformitivity\"\"\"\n",
    "    return  (1. + amplitude*sin(2.*pi*hr/24. - pi/8.))/24."
   ]
  },
  {
   "cell_type": "code",
   "execution_count": 5,
   "metadata": {},
   "outputs": [
    {
     "name": "stdout",
     "output_type": "stream",
     "text": [
      "NSIDE = 128\n",
      "ORDERING = NESTED in fits file\n",
      "INDXSCHM = IMPLICIT\n",
      "Ordering converted to RING\n"
     ]
    }
   ],
   "source": [
    "basemap_cbc=hp.fitsfunc.read_map('../BNS-MergerRates/skyprior_cbc_hl.fits') #read map\n",
    "basemap_cbc=basemap_cbc/sum(basemap_cbc) #Normalize map (divide each pixel by the sum of all)"
   ]
  },
  {
   "cell_type": "code",
   "execution_count": 6,
   "metadata": {
    "collapsed": true
   },
   "outputs": [],
   "source": [
    "mjd,ra_rot=loadtxt('../BNS-MergerRates/2017may_rot_fine.txt',unpack=True) #this file was created from the genrot_coord program"
   ]
  },
  {
   "cell_type": "code",
   "execution_count": 7,
   "metadata": {
    "collapsed": true
   },
   "outputs": [],
   "source": [
    "bias_amp=array([0.4]) #amplitude of bias = 0.4 ... will be used in bias_factor function\n",
    "nside=hp.get_nside(basemap_cbc) #get nside of basemap"
   ]
  },
  {
   "cell_type": "code",
   "execution_count": 8,
   "metadata": {
    "collapsed": true
   },
   "outputs": [],
   "source": [
    "n_coadd=0\n",
    "inst_map_cbc_he=zeros((hp.nside2npix(nside),size(bias_amp))) #create empty array, nside x 1"
   ]
  },
  {
   "cell_type": "code",
   "execution_count": 9,
   "metadata": {
    "collapsed": true
   },
   "outputs": [],
   "source": [
    "for i in range(0,size(ra_rot)): #for each element of ra_rot array\n",
    "    rot_map_cbc=rot_map(basemap_cbc,ra_rot[i]) #rotate basemap map by that element\n",
    "    rot_bias_cbc=rot_map_cbc[:,newaxis]*bias_factor((i*0.25)%24,bias_amp) #apply bias factor with bias amplitude=0.4\n",
    "    shield_he=vampire(mjd[i],nside,18.)\t#decide how many degrees around the sun shall be blocked.\n",
    "    inst_map_cbc_he=inst_map_cbc_he+shield_he[:,newaxis]*rot_bias_cbc #to empty map, add the sun*rotated map(with bias applied)\n",
    "    n_coadd=n_coadd+1 #iteration\n",
    "coaddmap_cbc_he=inst_map_cbc_he/n_coadd #average out map by number of iterations"
   ]
  },
  {
   "cell_type": "code",
   "execution_count": 10,
   "metadata": {
    "collapsed": true
   },
   "outputs": [],
   "source": [
    "#not sure what this does\n",
    "for j in range(0,size(bias_amp)):\n",
    "    fileinfo='hl_2017may_sin'+'%.3f'%bias_amp[j]+'_0.125pi_fine'\n",
    "    #write map and save\n",
    "hp.fitsfunc.write_map('../BNS-MergerRates/skyprior_cbc_'+fileinfo+'_twilight.fits',coaddmap_cbc_he[:,j]/sum(coaddmap_cbc_he[:,j]))"
   ]
  },
  {
   "cell_type": "code",
   "execution_count": null,
   "metadata": {
    "collapsed": true
   },
   "outputs": [],
   "source": []
  }
 ],
 "metadata": {
  "kernelspec": {
   "display_name": "Python 3",
   "language": "python",
   "name": "python3"
  },
  "language_info": {
   "codemirror_mode": {
    "name": "ipython",
    "version": 3
   },
   "file_extension": ".py",
   "mimetype": "text/x-python",
   "name": "python",
   "nbconvert_exporter": "python",
   "pygments_lexer": "ipython3",
   "version": "3.5.3"
  }
 },
 "nbformat": 4,
 "nbformat_minor": 2
}
